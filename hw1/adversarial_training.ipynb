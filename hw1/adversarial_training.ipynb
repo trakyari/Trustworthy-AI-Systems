{
  "cells": [
    {
      "cell_type": "markdown",
      "metadata": {
        "id": "Whsg1XX_OZs6"
      },
      "source": [
        "# Boilerplate\n",
        "\n",
        "Package installation, loading, and dataloaders. There's also a simple model defined. You can change it your favourite architecture if you want."
      ]
    },
    {
      "cell_type": "code",
      "execution_count": 42,
      "metadata": {
        "id": "R1domTvnONqD",
        "colab": {
          "base_uri": "https://localhost:8080/"
        },
        "outputId": "bdbc1384-9cb7-465c-a0e8-193716fe5d8b"
      },
      "outputs": [
        {
          "output_type": "execute_result",
          "data": {
            "text/plain": [
              "Sequential(\n",
              "  (0): Normalize()\n",
              "  (1): Net(\n",
              "    (fc): Linear(in_features=784, out_features=200, bias=True)\n",
              "    (fc2): Linear(in_features=200, out_features=10, bias=True)\n",
              "  )\n",
              ")"
            ]
          },
          "metadata": {},
          "execution_count": 42
        }
      ],
      "source": [
        "# !pip install tensorboardX\n",
        "\n",
        "import torch\n",
        "import torch.nn as nn\n",
        "import torch.optim as optim\n",
        "import torch.nn.functional as F\n",
        "import numpy as np\n",
        "import time\n",
        "import matplotlib.pyplot as plt\n",
        "\n",
        "from torchvision import datasets, transforms\n",
        "# from tensorboardX import SummaryWriter\n",
        "\n",
        "use_cuda = False\n",
        "device = torch.device(\"cuda\" if use_cuda else \"cpu\")\n",
        "batch_size = 64\n",
        "\n",
        "np.random.seed(42)\n",
        "torch.manual_seed(42)\n",
        "\n",
        "\n",
        "## Dataloaders\n",
        "train_dataset = datasets.MNIST('mnist_data/', train=True, download=True, transform=transforms.Compose(\n",
        "    [transforms.ToTensor()]\n",
        "))\n",
        "test_dataset = datasets.MNIST('mnist_data/', train=False, download=True, transform=transforms.Compose(\n",
        "    [transforms.ToTensor()]\n",
        "))\n",
        "\n",
        "train_loader = torch.utils.data.DataLoader(train_dataset, batch_size=batch_size, shuffle=True)\n",
        "test_loader = torch.utils.data.DataLoader(test_dataset, batch_size=batch_size, shuffle=False)\n",
        "\n",
        "## Simple NN. You can change this if you want. If you change it, mention the architectural details in your report.\n",
        "class Net(nn.Module):\n",
        "    def __init__(self):\n",
        "        super(Net, self).__init__()\n",
        "        self.fc = nn.Linear(28*28, 200)\n",
        "        self.fc2 = nn.Linear(200,10)\n",
        "\n",
        "    def forward(self, x):\n",
        "        x = x.view((-1, 28*28))\n",
        "        x = F.relu(self.fc(x))\n",
        "        x = self.fc2(x)\n",
        "        return x\n",
        "\n",
        "class Normalize(nn.Module):\n",
        "    def forward(self, x):\n",
        "        return (x - 0.1307)/0.3081\n",
        "\n",
        "# Add the data normalization as a first \"layer\" to the network\n",
        "# this allows us to search for adverserial examples to the real image, rather than\n",
        "# to the normalized image\n",
        "model = nn.Sequential(Normalize(), Net())\n",
        "\n",
        "model = model.to(device)\n",
        "optimizer = torch.optim.Adam(model.parameters(), lr=0.0001)\n",
        "model.train()"
      ]
    },
    {
      "cell_type": "markdown",
      "metadata": {
        "id": "NCmWfZHTO8Oo"
      },
      "source": [
        "# Implement the Attacks\n",
        "\n",
        "Functions are given a simple useful signature that you can start with. Feel free to extend the signature as you see fit.\n",
        "\n",
        "You may find it useful to create a 'batched' version of PGD that you can use to create the adversarial attack."
      ]
    },
    {
      "cell_type": "code",
      "execution_count": 50,
      "metadata": {
        "id": "EZjvA49yONqP"
      },
      "outputs": [],
      "source": [
        "# The last argument 'targeted' can be used to toggle\n",
        "# between a targeted and untargeted attack.\n",
        "def fgsm(model, x, y, eps):\n",
        "  \"\"\"\n",
        "  TODO: implement this as an intermediate step of PGD\n",
        "\n",
        "  Notes: put the model in eval() mode for this function\n",
        "  \"\"\"\n",
        "  model.eval()\n",
        "\n",
        "  x.requires_grad = True\n",
        "  output = model(x)\n",
        "\n",
        "  loss = nn.CrossEntropyLoss()\n",
        "\n",
        "  model.zero_grad()\n",
        "  cost = loss(output, y)\n",
        "  cost.backward()\n",
        "\n",
        "  # Perform perturbation\n",
        "  x_adv = x + eps*x.grad.sign()\n",
        "  return x_adv\n",
        "\n",
        "\n",
        "def pgd_untargeted(model, x, y, k, eps, eps_step):\n",
        "  \"\"\"\n",
        "  TODO: implement this\n",
        "  Notes: put the model in eval() mode for this function\n",
        "  x: input image\n",
        "  y: ground truth label for x\n",
        "  k: steps of FGSM\n",
        "  eps: projection region for PGD (note the need for normalization before projection, as eps values are for inputs in [0,1])\n",
        "  eps_step: step for one iteration of FGSM\n",
        "  \"\"\"\n",
        "  model.eval()\n",
        "  x = x.to(device)\n",
        "  y = y.to(device)\n",
        "\n",
        "  x_t = x.data\n",
        "  for i in range(k):\n",
        "    # Perturbed images\n",
        "    perturbation = fgsm(model, x, y, eps_step)\n",
        "    # Isolate perturbation\n",
        "    peturbation_data = torch.clamp(perturbation - x_t, -eps, eps)\n",
        "    x = torch.clamp(x_t + peturbation_data, 0, 1).detach_()\n",
        "  return x\n",
        "\n",
        "\n",
        "\n"
      ]
    },
    {
      "cell_type": "markdown",
      "metadata": {
        "id": "0Mja_AB4RykO"
      },
      "source": [
        "# Implement Adversarial Training"
      ]
    },
    {
      "cell_type": "code",
      "execution_count": 40,
      "metadata": {
        "id": "xdp5H_9Pn602"
      },
      "outputs": [],
      "source": [
        "def train_model(model, num_epochs, enable_defense=True, attack='pgd', eps=0.1):\n",
        "    # TODO: implement this function that trains a given model on the MNIST dataset.\n",
        "    # this is a general-purpose function for both standard training and adversarial training.\n",
        "    # (toggle enable_defense parameter to switch between training schemes)\n",
        "    model.train()\n",
        "    loss = nn.CrossEntropyLoss()\n",
        "\n",
        "    # If defense is enabled, add adversial examples to the training set\n",
        "    for epoch in range(num_epochs):\n",
        "      print(f'Epoch {epoch + 1}:')\n",
        "      correct = 0\n",
        "      total_samples = 0\n",
        "      for i, data in enumerate(train_loader):\n",
        "        inputs, labels = data\n",
        "\n",
        "        if enable_defense:\n",
        "          inputs = pgd_untargeted(model, inputs, labels, 10, eps, 0.01)\n",
        "\n",
        "        inputs = inputs.to(device)\n",
        "        labels = labels.to(device)\n",
        "\n",
        "        optimizer.zero_grad()\n",
        "        outputs = model(inputs)\n",
        "        cost = loss(outputs, labels)\n",
        "        cost.backward()\n",
        "\n",
        "        optimizer.step()\n"
      ]
    },
    {
      "cell_type": "code",
      "execution_count": 19,
      "metadata": {
        "id": "wnCEpMmZKMf1"
      },
      "outputs": [],
      "source": [
        "def test_model_on_attacks(model, attack='pgd', eps=0.1):\n",
        "    # TODO: implement this function to test the robust accuracy of the given model\n",
        "    # use pgd_untargeted() within this function\n",
        "    model.eval()\n",
        "    correct = 0\n",
        "    total = 0\n",
        "    for x, y in test_loader:\n",
        "      images = pgd_untargeted(model, x, y, 10, eps, 0.01)\n",
        "      labels = y\n",
        "      outputs = model(images)\n",
        "      _, predicted = torch.max(outputs.data, 1)\n",
        "      total += labels.size(0)\n",
        "      correct += (predicted == labels).sum().item()\n",
        "\n",
        "    print(f'Robust accuracy: {(100 * correct / total):2f}%')\n",
        "\n"
      ]
    },
    {
      "cell_type": "markdown",
      "metadata": {
        "id": "ZPMdfEhtR3zm"
      },
      "source": [
        "# Study Accuracy, Quality, etc.\n",
        "\n",
        "Compare the various results and report your observations on the submission."
      ]
    },
    {
      "cell_type": "code",
      "execution_count": 47,
      "metadata": {
        "scrolled": true,
        "id": "NJ90au-wKMf2",
        "colab": {
          "base_uri": "https://localhost:8080/"
        },
        "outputId": "29c99961-72e9-41ed-d3a8-036575892206"
      },
      "outputs": [
        {
          "output_type": "stream",
          "name": "stdout",
          "text": [
            "Epoch 1:\n",
            "Epoch 2:\n",
            "Epoch 3:\n",
            "Epoch 4:\n",
            "Epoch 5:\n"
          ]
        }
      ],
      "source": [
        "## train the original model\n",
        "# model = nn.Sequential(Normalize(), Net())\n",
        "# model = model.to(device)\n",
        "# model.train()\n",
        "\n",
        "train_model(model, 5, False)\n",
        "torch.save(model.state_dict(), 'weights.pt')"
      ]
    },
    {
      "cell_type": "code",
      "source": [
        "model = nn.Sequential(Normalize(), Net())\n",
        "model.load_state_dict(torch.load('weights.pt'))\n",
        "\n",
        "correct = 0\n",
        "total = 0\n",
        "with torch.no_grad():\n",
        "  for data in test_loader:\n",
        "    images, labels = data\n",
        "\n",
        "    images = images.to(device)\n",
        "    labels = labels.to(device)\n",
        "\n",
        "    outputs = model(images)\n",
        "    # the class with the highest energy is what we choose as prediction\n",
        "    _, predicted = torch.max(outputs.data, 1)\n",
        "    total += labels.size(0)\n",
        "    correct += (predicted == labels).sum().item()\n",
        "    del images, labels, outputs\n",
        "\n",
        "print(f'Standard accuracy: {100 * correct // total}%')"
      ],
      "metadata": {
        "colab": {
          "base_uri": "https://localhost:8080/"
        },
        "id": "oDCLds-_CvmC",
        "outputId": "f21316bb-d6c7-42a2-8728-58f20ae25f1e"
      },
      "execution_count": 48,
      "outputs": [
        {
          "output_type": "stream",
          "name": "stderr",
          "text": [
            "<ipython-input-48-959b07a6700d>:2: FutureWarning: You are using `torch.load` with `weights_only=False` (the current default value), which uses the default pickle module implicitly. It is possible to construct malicious pickle data which will execute arbitrary code during unpickling (See https://github.com/pytorch/pytorch/blob/main/SECURITY.md#untrusted-models for more details). In a future release, the default value for `weights_only` will be flipped to `True`. This limits the functions that could be executed during unpickling. Arbitrary objects will no longer be allowed to be loaded via this mode unless they are explicitly allowlisted by the user via `torch.serialization.add_safe_globals`. We recommend you start setting `weights_only=True` for any use case where you don't have full control of the loaded file. Please open an issue on GitHub for any issues related to this experimental feature.\n",
            "  model.load_state_dict(torch.load('weights.pt'))\n"
          ]
        },
        {
          "output_type": "stream",
          "name": "stdout",
          "text": [
            "Standard accuracy: 95%\n"
          ]
        }
      ]
    },
    {
      "cell_type": "code",
      "execution_count": 49,
      "metadata": {
        "id": "UlWjyNNoKMf2",
        "colab": {
          "base_uri": "https://localhost:8080/"
        },
        "outputId": "01bfe3dd-dacf-43ca-b6ba-06a70fb437fa"
      },
      "outputs": [
        {
          "output_type": "stream",
          "name": "stderr",
          "text": [
            "<ipython-input-49-0b71c636bed5>:3: FutureWarning: You are using `torch.load` with `weights_only=False` (the current default value), which uses the default pickle module implicitly. It is possible to construct malicious pickle data which will execute arbitrary code during unpickling (See https://github.com/pytorch/pytorch/blob/main/SECURITY.md#untrusted-models for more details). In a future release, the default value for `weights_only` will be flipped to `True`. This limits the functions that could be executed during unpickling. Arbitrary objects will no longer be allowed to be loaded via this mode unless they are explicitly allowlisted by the user via `torch.serialization.add_safe_globals`. We recommend you start setting `weights_only=True` for any use case where you don't have full control of the loaded file. Please open an issue on GitHub for any issues related to this experimental feature.\n",
            "  model.load_state_dict(torch.load('weights.pt'))\n"
          ]
        },
        {
          "output_type": "stream",
          "name": "stdout",
          "text": [
            "Robust accuracy: 95.550000%\n",
            "Robust accuracy: 95.520000%\n",
            "Robust accuracy: 95.520000%\n",
            "Robust accuracy: 95.520000%\n"
          ]
        }
      ],
      "source": [
        "## PGD attack\n",
        "model = nn.Sequential(Normalize(), Net())\n",
        "model.load_state_dict(torch.load('weights.pt'))\n",
        "\n",
        "for eps in [0.05, 0.1, 0.15, 0.2]:\n",
        "    test_model_on_attacks(model, attack='pgd', eps=eps)\n"
      ]
    },
    {
      "cell_type": "code",
      "execution_count": 43,
      "metadata": {
        "id": "ufD-ccTFR8R2",
        "colab": {
          "base_uri": "https://localhost:8080/"
        },
        "outputId": "78824ea1-e58d-4220-92d0-c0238249b52f"
      },
      "outputs": [
        {
          "output_type": "stream",
          "name": "stdout",
          "text": [
            "Epoch 1:\n",
            "Epoch 2:\n",
            "Epoch 3:\n",
            "Epoch 4:\n",
            "Epoch 5:\n"
          ]
        }
      ],
      "source": [
        "## PGD based adversarial training\n",
        "# model = nn.Sequential(Normalize(), Net())\n",
        "eps = 0.1\n",
        "train_model(model, 5, True, 'pgd', eps)\n",
        "torch.save(model.state_dict(), f'weights_AT_{eps}.pt')"
      ]
    },
    {
      "cell_type": "code",
      "execution_count": 44,
      "metadata": {
        "colab": {
          "base_uri": "https://localhost:8080/"
        },
        "outputId": "b94fb2a2-a4fa-48b2-8dfc-67b4b690a637",
        "id": "L1zHdUZaS7He"
      },
      "outputs": [
        {
          "output_type": "stream",
          "name": "stderr",
          "text": [
            "<ipython-input-44-06426db84a7a>:3: FutureWarning: You are using `torch.load` with `weights_only=False` (the current default value), which uses the default pickle module implicitly. It is possible to construct malicious pickle data which will execute arbitrary code during unpickling (See https://github.com/pytorch/pytorch/blob/main/SECURITY.md#untrusted-models for more details). In a future release, the default value for `weights_only` will be flipped to `True`. This limits the functions that could be executed during unpickling. Arbitrary objects will no longer be allowed to be loaded via this mode unless they are explicitly allowlisted by the user via `torch.serialization.add_safe_globals`. We recommend you start setting `weights_only=True` for any use case where you don't have full control of the loaded file. Please open an issue on GitHub for any issues related to this experimental feature.\n",
            "  model.load_state_dict(torch.load('weights_AT_0.1.pt'))\n"
          ]
        },
        {
          "output_type": "stream",
          "name": "stdout",
          "text": [
            "Robust accuracy: 91.070000%\n",
            "Robust accuracy: 82.380000%\n",
            "Robust accuracy: 82.380000%\n",
            "Robust accuracy: 82.380000%\n"
          ]
        }
      ],
      "source": [
        "## PGD based adversarial training attack\n",
        "model = nn.Sequential(Normalize(), Net())\n",
        "model.load_state_dict(torch.load('weights_AT_0.1.pt'))\n",
        "\n",
        "for eps in [0.05, 0.1, 0.15, 0.2]:\n",
        "    test_model_on_attacks(model, attack='pgd', eps=eps)\n"
      ]
    },
    {
      "cell_type": "code",
      "source": [
        "model = nn.Sequential(Normalize(), Net())\n",
        "model.load_state_dict(torch.load('weights_AT_0.1.pt'))\n",
        "\n",
        "correct = 0\n",
        "total = 0\n",
        "with torch.no_grad():\n",
        "  for data in test_loader:\n",
        "    images, labels = data\n",
        "\n",
        "    images = images.to(device)\n",
        "    labels = labels.to(device)\n",
        "\n",
        "    outputs = model(images)\n",
        "    # the class with the highest energy is what we choose as prediction\n",
        "    _, predicted = torch.max(outputs.data, 1)\n",
        "    total += labels.size(0)\n",
        "    correct += (predicted == labels).sum().item()\n",
        "    del images, labels, outputs\n",
        "\n",
        "print(f'Standard accuracy: {100 * correct // total}%')"
      ],
      "metadata": {
        "colab": {
          "base_uri": "https://localhost:8080/"
        },
        "outputId": "39861e66-3b6e-4a79-b27a-1397ab76a096",
        "id": "jlQjU3xIVWjQ"
      },
      "execution_count": 45,
      "outputs": [
        {
          "output_type": "stream",
          "name": "stderr",
          "text": [
            "<ipython-input-45-5854e2547af0>:2: FutureWarning: You are using `torch.load` with `weights_only=False` (the current default value), which uses the default pickle module implicitly. It is possible to construct malicious pickle data which will execute arbitrary code during unpickling (See https://github.com/pytorch/pytorch/blob/main/SECURITY.md#untrusted-models for more details). In a future release, the default value for `weights_only` will be flipped to `True`. This limits the functions that could be executed during unpickling. Arbitrary objects will no longer be allowed to be loaded via this mode unless they are explicitly allowlisted by the user via `torch.serialization.add_safe_globals`. We recommend you start setting `weights_only=True` for any use case where you don't have full control of the loaded file. Please open an issue on GitHub for any issues related to this experimental feature.\n",
            "  model.load_state_dict(torch.load('weights_AT_0.1.pt'))\n"
          ]
        },
        {
          "output_type": "stream",
          "name": "stdout",
          "text": [
            "Standard accuracy: 95%\n"
          ]
        }
      ]
    }
  ],
  "metadata": {
    "colab": {
      "provenance": []
    },
    "kernelspec": {
      "display_name": "Python 3 (ipykernel)",
      "language": "python",
      "name": "python3"
    },
    "language_info": {
      "codemirror_mode": {
        "name": "ipython",
        "version": 3
      },
      "file_extension": ".py",
      "mimetype": "text/x-python",
      "name": "python",
      "nbconvert_exporter": "python",
      "pygments_lexer": "ipython3",
      "version": "3.12.5"
    }
  },
  "nbformat": 4,
  "nbformat_minor": 0
}