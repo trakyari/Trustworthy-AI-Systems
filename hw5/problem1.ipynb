{
 "cells": [
  {
   "cell_type": "code",
   "execution_count": null,
   "metadata": {
    "vscode": {
     "languageId": "plaintext"
    }
   },
   "outputs": [],
   "source": [
    "import json\n",
    "\n",
    "def evaluate_expression(operand_list, operator):\n",
    "    if operator == '+':\n",
    "        return operand_list[0] + operand_list[1]\n",
    "    elif operator == '-':\n",
    "        return operand_list[0] - operand_list[1]\n",
    "    elif operator == '*':\n",
    "        return operand_list[0] * operand_list[1]\n",
    "    elif operator == '/':\n",
    "        return operand_list[0] / operand_list[1]\n",
    "    else:\n",
    "        return 0\n",
    "\n",
    "def run_syncode(textual_query):\n",
    "    from syncode import Syncode\n",
    "    import warnings\n",
    "    warnings.filterwarnings('ignore')\n",
    "\n",
    "    model_name = \"meta-llama/Llama-3.2-1B\"\n",
    "\n",
    "    operand_list = []\n",
    "\n",
    "    operator = \"\"\n",
    "\n",
    "    final_answer = 0\n",
    "\n",
    "    # Load the Syncode augmented model\n",
    "    syn_llm = Syncode(model=model_name, mode=\"grammar_strict\", grammar='json',\n",
    "                      parse_output_only=True, max_new_tokens=200)\n",
    "\n",
    "    prompt = \"Please return a json object to represent the two floating point operands and the single operator from the following query\\n\"\n",
    "    prompt += \"the operands should be placed in a key called 'operands' and the operator should be placed in a key called 'operator'.\\n\"\n",
    "    prompt += \"DO NOT INCLUDE ANYTHING ELSE IN THE JSON OBJECT\\n\"\n",
    "    prompt += \"Example 1: Query: What is 327. multiplied by 11.0 {'operands': [327, 11.0], 'operator': '*'}\\n\"\n",
    "    prompt += \"Example 2: Query: What is 5 divided by 5 {'operands': [5, 5], 'operator': '/'}\\n\"\n",
    "    prompt += \"Example 3: Query: What is 10 plus 11.0 {'operands': [10, 11.0], 'operator': '+'}\\n\"\n",
    "    prompt += \"Query to extract from: \"\n",
    "    prompt += textual_query\n",
    "\n",
    "    # print(f\"Prompt: {prompt}\")\n",
    "\n",
    "    # Generate code\n",
    "    output = syn_llm.infer(prompt)[0]\n",
    "    print(f\"LLM Output: {output}\")\n",
    "    # convert output to dict\n",
    "    output = json.loads(output)\n",
    "    operand_list = output['operands']\n",
    "    operator = output['operator']\n",
    "\n",
    "    # using python interpreter to evaluate the expression, do the calculation\n",
    "    final_answer = evaluate_expression(operand_list, operator)\n",
    "\n",
    "    return (operand_list, operator, final_answer)\n",
    "\n",
    "\n",
    "def main():\n",
    "    query = \"What is 327. multiplied by 11.0?\"\n",
    "    print(run_syncode(query))\n",
    "    query = \"What is 45.1 plus 23.54?\"\n",
    "    print(run_syncode(query))\n",
    "    query = \"What is 120.4 divided by 4.0?\"\n",
    "    print(run_syncode(query))\n",
    "\n",
    "main()\n"
   ]
  }
 ],
 "metadata": {
  "language_info": {
   "name": "python"
  }
 },
 "nbformat": 4,
 "nbformat_minor": 2
}
